{
  "nbformat": 4,
  "nbformat_minor": 0,
  "metadata": {
    "colab": {
      "name": "Glove.ipynb",
      "provenance": [],
      "collapsed_sections": []
    },
    "kernelspec": {
      "name": "python3",
      "display_name": "Python 3"
    },
    "language_info": {
      "name": "python"
    },
    "accelerator": "GPU"
  },
  "cells": [
    {
      "cell_type": "code",
      "metadata": {
        "colab": {
          "base_uri": "https://localhost:8080/"
        },
        "id": "94qGTC__-pyF",
        "outputId": "ca6ad213-ea4d-4e83-c5f7-479949ebf2bd"
      },
      "source": [
        "from google.colab import drive\n",
        "drive.mount('/content/drive')"
      ],
      "execution_count": null,
      "outputs": [
        {
          "output_type": "stream",
          "text": [
            "Mounted at /content/drive\n"
          ],
          "name": "stdout"
        }
      ]
    },
    {
      "cell_type": "code",
      "metadata": {
        "id": "z9Efm235Dnyf"
      },
      "source": [
        "import numpy as np\n",
        "import pandas as pd\n",
        "import matplotlib.pyplot as plt\n",
        "import string\n",
        "import seaborn as sns"
      ],
      "execution_count": null,
      "outputs": []
    },
    {
      "cell_type": "code",
      "metadata": {
        "id": "WMM8xxK6DWAn",
        "colab": {
          "base_uri": "https://localhost:8080/",
          "height": 203
        },
        "outputId": "9a600189-510a-43f3-e4c5-f07cf8c68c9e"
      },
      "source": [
        "messages = pd.read_csv('/content/drive/My Drive/dataset/SMSSpamCollection', sep='\\t', names=[\"label\", \"message\"])\n",
        "messages.head()"
      ],
      "execution_count": null,
      "outputs": [
        {
          "output_type": "execute_result",
          "data": {
            "text/html": [
              "<div>\n",
              "<style scoped>\n",
              "    .dataframe tbody tr th:only-of-type {\n",
              "        vertical-align: middle;\n",
              "    }\n",
              "\n",
              "    .dataframe tbody tr th {\n",
              "        vertical-align: top;\n",
              "    }\n",
              "\n",
              "    .dataframe thead th {\n",
              "        text-align: right;\n",
              "    }\n",
              "</style>\n",
              "<table border=\"1\" class=\"dataframe\">\n",
              "  <thead>\n",
              "    <tr style=\"text-align: right;\">\n",
              "      <th></th>\n",
              "      <th>label</th>\n",
              "      <th>message</th>\n",
              "    </tr>\n",
              "  </thead>\n",
              "  <tbody>\n",
              "    <tr>\n",
              "      <th>0</th>\n",
              "      <td>ham</td>\n",
              "      <td>Go until jurong point, crazy.. Available only ...</td>\n",
              "    </tr>\n",
              "    <tr>\n",
              "      <th>1</th>\n",
              "      <td>ham</td>\n",
              "      <td>Ok lar... Joking wif u oni...</td>\n",
              "    </tr>\n",
              "    <tr>\n",
              "      <th>2</th>\n",
              "      <td>spam</td>\n",
              "      <td>Free entry in 2 a wkly comp to win FA Cup fina...</td>\n",
              "    </tr>\n",
              "    <tr>\n",
              "      <th>3</th>\n",
              "      <td>ham</td>\n",
              "      <td>U dun say so early hor... U c already then say...</td>\n",
              "    </tr>\n",
              "    <tr>\n",
              "      <th>4</th>\n",
              "      <td>ham</td>\n",
              "      <td>Nah I don't think he goes to usf, he lives aro...</td>\n",
              "    </tr>\n",
              "  </tbody>\n",
              "</table>\n",
              "</div>"
            ],
            "text/plain": [
              "  label                                            message\n",
              "0   ham  Go until jurong point, crazy.. Available only ...\n",
              "1   ham                      Ok lar... Joking wif u oni...\n",
              "2  spam  Free entry in 2 a wkly comp to win FA Cup fina...\n",
              "3   ham  U dun say so early hor... U c already then say...\n",
              "4   ham  Nah I don't think he goes to usf, he lives aro..."
            ]
          },
          "metadata": {
            "tags": []
          },
          "execution_count": 15
        }
      ]
    },
    {
      "cell_type": "code",
      "metadata": {
        "id": "V91RfOkADyin",
        "colab": {
          "base_uri": "https://localhost:8080/"
        },
        "outputId": "516d61af-4d61-41ad-8a8e-06f30aa29ffc"
      },
      "source": [
        "import re\n",
        "import nltk\n",
        "nltk.download('stopwords')"
      ],
      "execution_count": null,
      "outputs": [
        {
          "output_type": "stream",
          "text": [
            "[nltk_data] Downloading package stopwords to /root/nltk_data...\n",
            "[nltk_data]   Unzipping corpora/stopwords.zip.\n"
          ],
          "name": "stdout"
        },
        {
          "output_type": "execute_result",
          "data": {
            "text/plain": [
              "True"
            ]
          },
          "metadata": {
            "tags": []
          },
          "execution_count": 4
        }
      ]
    },
    {
      "cell_type": "code",
      "metadata": {
        "colab": {
          "base_uri": "https://localhost:8080/"
        },
        "id": "PFK8Z8khEIOo",
        "outputId": "420586b1-4df7-41f5-85d9-0cf4f0f8e9e2"
      },
      "source": [
        "nltk.download('wordnet')"
      ],
      "execution_count": null,
      "outputs": [
        {
          "output_type": "stream",
          "text": [
            "[nltk_data] Downloading package wordnet to /root/nltk_data...\n",
            "[nltk_data]   Unzipping corpora/wordnet.zip.\n"
          ],
          "name": "stdout"
        },
        {
          "output_type": "execute_result",
          "data": {
            "text/plain": [
              "True"
            ]
          },
          "metadata": {
            "tags": []
          },
          "execution_count": 5
        }
      ]
    },
    {
      "cell_type": "code",
      "metadata": {
        "colab": {
          "base_uri": "https://localhost:8080/",
          "height": 323
        },
        "id": "hKKbeDIVlbqF",
        "outputId": "bb26a4fd-6b5c-4811-d54d-2c70ce4cdbea"
      },
      "source": [
        "messages.info()\n",
        "messages.describe()"
      ],
      "execution_count": null,
      "outputs": [
        {
          "output_type": "stream",
          "text": [
            "<class 'pandas.core.frame.DataFrame'>\n",
            "RangeIndex: 5572 entries, 0 to 5571\n",
            "Data columns (total 2 columns):\n",
            " #   Column   Non-Null Count  Dtype \n",
            "---  ------   --------------  ----- \n",
            " 0   label    5572 non-null   object\n",
            " 1   message  5572 non-null   object\n",
            "dtypes: object(2)\n",
            "memory usage: 87.2+ KB\n"
          ],
          "name": "stdout"
        },
        {
          "output_type": "execute_result",
          "data": {
            "text/html": [
              "<div>\n",
              "<style scoped>\n",
              "    .dataframe tbody tr th:only-of-type {\n",
              "        vertical-align: middle;\n",
              "    }\n",
              "\n",
              "    .dataframe tbody tr th {\n",
              "        vertical-align: top;\n",
              "    }\n",
              "\n",
              "    .dataframe thead th {\n",
              "        text-align: right;\n",
              "    }\n",
              "</style>\n",
              "<table border=\"1\" class=\"dataframe\">\n",
              "  <thead>\n",
              "    <tr style=\"text-align: right;\">\n",
              "      <th></th>\n",
              "      <th>label</th>\n",
              "      <th>message</th>\n",
              "    </tr>\n",
              "  </thead>\n",
              "  <tbody>\n",
              "    <tr>\n",
              "      <th>count</th>\n",
              "      <td>5572</td>\n",
              "      <td>5572</td>\n",
              "    </tr>\n",
              "    <tr>\n",
              "      <th>unique</th>\n",
              "      <td>2</td>\n",
              "      <td>5169</td>\n",
              "    </tr>\n",
              "    <tr>\n",
              "      <th>top</th>\n",
              "      <td>ham</td>\n",
              "      <td>Sorry, I'll call later</td>\n",
              "    </tr>\n",
              "    <tr>\n",
              "      <th>freq</th>\n",
              "      <td>4825</td>\n",
              "      <td>30</td>\n",
              "    </tr>\n",
              "  </tbody>\n",
              "</table>\n",
              "</div>"
            ],
            "text/plain": [
              "       label                 message\n",
              "count   5572                    5572\n",
              "unique     2                    5169\n",
              "top      ham  Sorry, I'll call later\n",
              "freq    4825                      30"
            ]
          },
          "metadata": {
            "tags": []
          },
          "execution_count": 18
        }
      ]
    },
    {
      "cell_type": "code",
      "metadata": {
        "colab": {
          "base_uri": "https://localhost:8080/",
          "height": 172
        },
        "id": "qXsuUpLPloBj",
        "outputId": "46186870-27e7-4c44-c612-792c6ddf2654"
      },
      "source": [
        "messages.groupby('label').describe()"
      ],
      "execution_count": null,
      "outputs": [
        {
          "output_type": "execute_result",
          "data": {
            "text/html": [
              "<div>\n",
              "<style scoped>\n",
              "    .dataframe tbody tr th:only-of-type {\n",
              "        vertical-align: middle;\n",
              "    }\n",
              "\n",
              "    .dataframe tbody tr th {\n",
              "        vertical-align: top;\n",
              "    }\n",
              "\n",
              "    .dataframe thead tr th {\n",
              "        text-align: left;\n",
              "    }\n",
              "\n",
              "    .dataframe thead tr:last-of-type th {\n",
              "        text-align: right;\n",
              "    }\n",
              "</style>\n",
              "<table border=\"1\" class=\"dataframe\">\n",
              "  <thead>\n",
              "    <tr>\n",
              "      <th></th>\n",
              "      <th colspan=\"4\" halign=\"left\">message</th>\n",
              "    </tr>\n",
              "    <tr>\n",
              "      <th></th>\n",
              "      <th>count</th>\n",
              "      <th>unique</th>\n",
              "      <th>top</th>\n",
              "      <th>freq</th>\n",
              "    </tr>\n",
              "    <tr>\n",
              "      <th>label</th>\n",
              "      <th></th>\n",
              "      <th></th>\n",
              "      <th></th>\n",
              "      <th></th>\n",
              "    </tr>\n",
              "  </thead>\n",
              "  <tbody>\n",
              "    <tr>\n",
              "      <th>ham</th>\n",
              "      <td>4825</td>\n",
              "      <td>4516</td>\n",
              "      <td>Sorry, I'll call later</td>\n",
              "      <td>30</td>\n",
              "    </tr>\n",
              "    <tr>\n",
              "      <th>spam</th>\n",
              "      <td>747</td>\n",
              "      <td>653</td>\n",
              "      <td>Please call our customer service representativ...</td>\n",
              "      <td>4</td>\n",
              "    </tr>\n",
              "  </tbody>\n",
              "</table>\n",
              "</div>"
            ],
            "text/plain": [
              "      message                                                               \n",
              "        count unique                                                top freq\n",
              "label                                                                       \n",
              "ham      4825   4516                             Sorry, I'll call later   30\n",
              "spam      747    653  Please call our customer service representativ...    4"
            ]
          },
          "metadata": {
            "tags": []
          },
          "execution_count": 19
        }
      ]
    },
    {
      "cell_type": "code",
      "metadata": {
        "colab": {
          "base_uri": "https://localhost:8080/",
          "height": 110
        },
        "id": "2ojzChUPloEf",
        "outputId": "d50b02a3-dde6-4498-ccc9-05c24ea97fa2"
      },
      "source": [
        "messages[\"Length\"] = messages[\"message\"].apply(len)\n",
        "messages.head(2)"
      ],
      "execution_count": null,
      "outputs": [
        {
          "output_type": "execute_result",
          "data": {
            "text/html": [
              "<div>\n",
              "<style scoped>\n",
              "    .dataframe tbody tr th:only-of-type {\n",
              "        vertical-align: middle;\n",
              "    }\n",
              "\n",
              "    .dataframe tbody tr th {\n",
              "        vertical-align: top;\n",
              "    }\n",
              "\n",
              "    .dataframe thead th {\n",
              "        text-align: right;\n",
              "    }\n",
              "</style>\n",
              "<table border=\"1\" class=\"dataframe\">\n",
              "  <thead>\n",
              "    <tr style=\"text-align: right;\">\n",
              "      <th></th>\n",
              "      <th>label</th>\n",
              "      <th>message</th>\n",
              "      <th>Length</th>\n",
              "    </tr>\n",
              "  </thead>\n",
              "  <tbody>\n",
              "    <tr>\n",
              "      <th>0</th>\n",
              "      <td>ham</td>\n",
              "      <td>Go until jurong point, crazy.. Available only ...</td>\n",
              "      <td>111</td>\n",
              "    </tr>\n",
              "    <tr>\n",
              "      <th>1</th>\n",
              "      <td>ham</td>\n",
              "      <td>Ok lar... Joking wif u oni...</td>\n",
              "      <td>29</td>\n",
              "    </tr>\n",
              "  </tbody>\n",
              "</table>\n",
              "</div>"
            ],
            "text/plain": [
              "  label                                            message  Length\n",
              "0   ham  Go until jurong point, crazy.. Available only ...     111\n",
              "1   ham                      Ok lar... Joking wif u oni...      29"
            ]
          },
          "metadata": {
            "tags": []
          },
          "execution_count": 21
        }
      ]
    },
    {
      "cell_type": "code",
      "metadata": {
        "colab": {
          "base_uri": "https://localhost:8080/",
          "height": 350
        },
        "id": "O56O2Fg7mAbX",
        "outputId": "a5f58baa-39c1-49c4-a20d-007136e60037"
      },
      "source": [
        "sns.distplot(messages[\"Length\"], bins=30)"
      ],
      "execution_count": null,
      "outputs": [
        {
          "output_type": "stream",
          "text": [
            "/usr/local/lib/python3.7/dist-packages/seaborn/distributions.py:2557: FutureWarning: `distplot` is a deprecated function and will be removed in a future version. Please adapt your code to use either `displot` (a figure-level function with similar flexibility) or `histplot` (an axes-level function for histograms).\n",
            "  warnings.warn(msg, FutureWarning)\n"
          ],
          "name": "stderr"
        },
        {
          "output_type": "execute_result",
          "data": {
            "text/plain": [
              "<matplotlib.axes._subplots.AxesSubplot at 0x7fd210db8c90>"
            ]
          },
          "metadata": {
            "tags": []
          },
          "execution_count": 25
        },
        {
          "output_type": "display_data",
          "data": {
            "image/png": "[encoded data removed]",
            "text/plain": [
              "<Figure size 432x288 with 1 Axes>"
            ]
          },
          "metadata": {
            "tags": [],
            "needs_background": "light"
          }
        }
      ]
    },
    {
      "cell_type": "code",
      "metadata": {
        "colab": {
          "base_uri": "https://localhost:8080/"
        },
        "id": "0ZJRD49DmAdN",
        "outputId": "975a76bd-60f8-4436-9111-4f403d89433b"
      },
      "source": [
        "messages[\"Length\"].max()"
      ],
      "execution_count": null,
      "outputs": [
        {
          "output_type": "execute_result",
          "data": {
            "text/plain": [
              "910"
            ]
          },
          "metadata": {
            "tags": []
          },
          "execution_count": 26
        }
      ]
    },
    {
      "cell_type": "code",
      "metadata": {
        "colab": {
          "base_uri": "https://localhost:8080/",
          "height": 35
        },
        "id": "AlNptKg5mAhE",
        "outputId": "0d109c1f-a9b4-4bec-d70e-14f73241ad7f"
      },
      "source": [
        "messages[messages[\"Length\"] == messages[\"Length\"].min()][\"message\"].iloc[0]"
      ],
      "execution_count": null,
      "outputs": [
        {
          "output_type": "execute_result",
          "data": {
            "application/vnd.google.colaboratory.intrinsic+json": {
              "type": "string"
            },
            "text/plain": [
              "'Ok'"
            ]
          },
          "metadata": {
            "tags": []
          },
          "execution_count": 28
        }
      ]
    },
    {
      "cell_type": "code",
      "metadata": {
        "colab": {
          "base_uri": "https://localhost:8080/"
        },
        "id": "ToKPA3mDFMDt",
        "outputId": "7bc383a9-b00e-493a-ffe1-14942e7d28e3"
      },
      "source": [
        "X=messages.message\n",
        "from tensorflow.keras.utils import to_categorical #one hot\n",
        "labels = [1 if x == \"spam\" else 0 for x in messages['label'].values]\n",
        "labels = to_categorical(labels)\n",
        "labels"
      ],
      "execution_count": null,
      "outputs": [
        {
          "output_type": "execute_result",
          "data": {
            "text/plain": [
              "array([[1., 0.],\n",
              "       [1., 0.],\n",
              "       [0., 1.],\n",
              "       ...,\n",
              "       [1., 0.],\n",
              "       [1., 0.],\n",
              "       [1., 0.]], dtype=float32)"
            ]
          },
          "metadata": {
            "tags": []
          },
          "execution_count": 6
        }
      ]
    },
    {
      "cell_type": "code",
      "metadata": {
        "colab": {
          "base_uri": "https://localhost:8080/",
          "height": 296
        },
        "id": "0O2G73CKdSeQ",
        "outputId": "1bb0a3c4-39d2-43f8-ffb3-0b31a94842c5"
      },
      "source": [
        "sns.barplot(x='label', y='Length', data=messages)"
      ],
      "execution_count": null,
      "outputs": [
        {
          "output_type": "execute_result",
          "data": {
            "text/plain": [
              "<matplotlib.axes._subplots.AxesSubplot at 0x7fd21effd410>"
            ]
          },
          "metadata": {
            "tags": []
          },
          "execution_count": 29
        },
        {
          "output_type": "display_data",
          "data": {
            "image/png": "[encoded data removed]",
            "text/plain": [
              "<Figure size 432x288 with 1 Axes>"
            ]
          },
          "metadata": {
            "tags": [],
            "needs_background": "light"
          }
        }
      ]
    },
    {
      "cell_type": "code",
      "metadata": {
        "colab": {
          "base_uri": "https://localhost:8080/",
          "height": 339
        },
        "id": "rimini7gdSiU",
        "outputId": "eb253e86-3d90-4ee5-c0e4-dbac20804490"
      },
      "source": [
        "messages.hist(column='Length',by='label', bins=50)"
      ],
      "execution_count": null,
      "outputs": [
        {
          "output_type": "execute_result",
          "data": {
            "text/plain": [
              "array([<matplotlib.axes._subplots.AxesSubplot object at 0x7fd21ed62e50>,\n",
              "       <matplotlib.axes._subplots.AxesSubplot object at 0x7fd21e99b490>],\n",
              "      dtype=object)"
            ]
          },
          "metadata": {
            "tags": []
          },
          "execution_count": 31
        },
        {
          "output_type": "display_data",
          "data": {
            "image/png": "[encoded data removed]",
            "text/plain": [
              "<Figure size 432x288 with 2 Axes>"
            ]
          },
          "metadata": {
            "tags": [],
            "needs_background": "light"
          }
        }
      ]
    },
    {
      "cell_type": "code",
      "metadata": {
        "colab": {
          "base_uri": "https://localhost:8080/"
        },
        "id": "Ll7Wv2AzUA-S",
        "outputId": "80521f24-1d4f-4a8e-c823-faf0f9345b39"
      },
      "source": [
        "X"
      ],
      "execution_count": null,
      "outputs": [
        {
          "output_type": "execute_result",
          "data": {
            "text/plain": [
              "0       Go until jurong point, crazy.. Available only ...\n",
              "1                           Ok lar... Joking wif u oni...\n",
              "2       Free entry in 2 a wkly comp to win FA Cup fina...\n",
              "3       U dun say so early hor... U c already then say...\n",
              "4       Nah I don't think he goes to usf, he lives aro...\n",
              "                              ...                        \n",
              "5567    This is the 2nd time we have tried 2 contact u...\n",
              "5568                 Will ü b going to esplanade fr home?\n",
              "5569    Pity, * was in mood for that. So...any other s...\n",
              "5570    The guy did some bitching but I acted like i'd...\n",
              "5571                           Rofl. Its true to its name\n",
              "Name: message, Length: 5572, dtype: object"
            ]
          },
          "metadata": {
            "tags": []
          },
          "execution_count": 32
        }
      ]
    },
    {
      "cell_type": "code",
      "metadata": {
        "id": "5WdL2ph_KQ7J"
      },
      "source": [
        "from sklearn.model_selection import train_test_split\n",
        "from keras.models import Model, load_model\n",
        "from keras.layers import Conv1D, GlobalMaxPooling1D, Dropout, Dense, Input, Embedding, MaxPooling1D, Flatten\n",
        "from keras.callbacks import ModelCheckpoint\n",
        "from tensorflow.keras.preprocessing.text import Tokenizer\n",
        "from tensorflow.keras.preprocessing.sequence import pad_sequences"
      ],
      "execution_count": null,
      "outputs": []
    },
    {
      "cell_type": "code",
      "metadata": {
        "id": "qcTkdFcaLrHR",
        "colab": {
          "base_uri": "https://localhost:8080/"
        },
        "outputId": "36b8af7a-1261-4bf7-d958-55d0f4d79b21"
      },
      "source": [
        "MAX_NUMBER_OF_WORDS = 10000\n",
        "MAX_SEQ_LEN = 70\n",
        "max_features = 10000\n",
        "embedding_size = 128\n",
        "tokenizer = Tokenizer(num_words=MAX_NUMBER_OF_WORDS)\n",
        "tokenizer.fit_on_texts(X)\n",
        "sequences = tokenizer.texts_to_sequences(X,)\n",
        "matrix = pad_sequences(sequences, maxlen=MAX_SEQ_LEN) #pre \n",
        "matrix"
      ],
      "execution_count": null,
      "outputs": [
        {
          "output_type": "execute_result",
          "data": {
            "text/plain": [
              "array([[   0,    0,    0, ...,   58, 4437,  144],\n",
              "       [   0,    0,    0, ...,  472,    6, 1940],\n",
              "       [   0,    0,    0, ...,  660,  392, 2998],\n",
              "       ...,\n",
              "       [   0,    0,    0, ...,  107,  251, 9008],\n",
              "       [   0,    0,    0, ...,  200,   12,   47],\n",
              "       [   0,    0,    0, ...,    2,   61,  268]], dtype=int32)"
            ]
          },
          "metadata": {
            "tags": []
          },
          "execution_count": 34
        }
      ]
    },
    {
      "cell_type": "code",
      "metadata": {
        "colab": {
          "base_uri": "https://localhost:8080/"
        },
        "id": "OcSEmL15L_qR",
        "outputId": "1a5ed303-ad2e-4cb0-c3b2-25f7e09c0e64"
      },
      "source": [
        "len(tokenizer.word_index)"
      ],
      "execution_count": null,
      "outputs": [
        {
          "output_type": "execute_result",
          "data": {
            "text/plain": [
              "9009"
            ]
          },
          "metadata": {
            "tags": []
          },
          "execution_count": 35
        }
      ]
    },
    {
      "cell_type": "code",
      "metadata": {
        "id": "2ZrQpu3LjDNj"
      },
      "source": [
        "X_train,X_test,Y_train,Y_test = train_test_split(matrix,labels,test_size=0.20,random_state=25)"
      ],
      "execution_count": null,
      "outputs": []
    },
    {
      "cell_type": "code",
      "metadata": {
        "colab": {
          "base_uri": "https://localhost:8080/"
        },
        "id": "7CXlbLnTPpqr",
        "outputId": "aecb128f-ee8e-49a0-bfca-993b53758e92"
      },
      "source": [
        "from keras.models import Sequential #lft to rgt or rgt to lft\n",
        "model = Sequential()\n",
        "model.add(Embedding(input_dim=9010,output_dim= embedding_size, input_length=MAX_SEQ_LEN,))      #128*9010\n",
        "model.add(Conv1D(filters=128,\n",
        "                 kernel_size=3,\n",
        "                 padding='valid',\n",
        "                 activation='relu',\n",
        "                 strides=1))                       #128*128*3\n",
        "model.add(MaxPooling1D(5)) #best features\n",
        "model.add(Flatten())\n",
        "model.add(Dense(256,activation = 'relu')) \n",
        "model.add(Dense(2,activation = 'softmax')) #2->spam, ham\n",
        "model.compile(loss='categorical_crossentropy',optimizer='adam',metrics=['accuracy'])\n",
        "model.build(X_train.shape)\n",
        "model.summary()"
      ],
      "execution_count": null,
      "outputs": [
        {
          "output_type": "stream",
          "text": [
            "Model: \"sequential\"\n",
            "_________________________________________________________________\n",
            "Layer (type)                 Output Shape              Param #   \n",
            "=================================================================\n",
            "embedding (Embedding)        (None, 70, 128)           1153280   \n",
            "_________________________________________________________________\n",
            "conv1d (Conv1D)              (None, 68, 128)           49280     \n",
            "_________________________________________________________________\n",
            "max_pooling1d (MaxPooling1D) (None, 13, 128)           0         \n",
            "_________________________________________________________________\n",
            "flatten (Flatten)            (None, 1664)              0         \n",
            "_________________________________________________________________\n",
            "dense (Dense)                (None, 256)               426240    \n",
            "_________________________________________________________________\n",
            "dense_1 (Dense)              (None, 2)                 514       \n",
            "=================================================================\n",
            "Total params: 1,629,314\n",
            "Trainable params: 1,629,314\n",
            "Non-trainable params: 0\n",
            "_________________________________________________________________\n"
          ],
          "name": "stdout"
        }
      ]
    },
    {
      "cell_type": "code",
      "metadata": {
        "colab": {
          "base_uri": "https://localhost:8080/"
        },
        "id": "BgGca-A3RlBG",
        "outputId": "eedc0abf-2ae4-4569-8393-400b52c0072f"
      },
      "source": [
        "model.fit(X_train,Y_train,batch_size=100,epochs=5, verbose=1) #iteration=5572(80/100) ->xtrain"
      ],
      "execution_count": null,
      "outputs": [
        {
          "output_type": "stream",
          "text": [
            "Epoch 1/5\n",
            "45/45 [==============================] - 46s 24ms/step - loss: 0.3804 - accuracy: 0.8057\n",
            "Epoch 2/5\n",
            "45/45 [==============================] - 1s 14ms/step - loss: 0.0646 - accuracy: 0.9819\n",
            "Epoch 3/5\n",
            "45/45 [==============================] - 1s 14ms/step - loss: 0.0185 - accuracy: 0.9934\n",
            "Epoch 4/5\n",
            "45/45 [==============================] - 1s 13ms/step - loss: 0.0047 - accuracy: 0.9990\n",
            "Epoch 5/5\n",
            "45/45 [==============================] - 1s 14ms/step - loss: 0.0043 - accuracy: 0.9994\n"
          ],
          "name": "stdout"
        },
        {
          "output_type": "execute_result",
          "data": {
            "text/plain": [
              "<keras.callbacks.History at 0x7fd212666710>"
            ]
          },
          "metadata": {
            "tags": []
          },
          "execution_count": 38
        }
      ]
    },
    {
      "cell_type": "code",
      "metadata": {
        "colab": {
          "base_uri": "https://localhost:8080/"
        },
        "id": "PY34_OO0f7D3",
        "outputId": "8fe98644-51fa-4b9f-b618-54c4cb731ca1"
      },
      "source": [
        "model.summary()"
      ],
      "execution_count": null,
      "outputs": [
        {
          "output_type": "stream",
          "text": [
            "Model: \"sequential\"\n",
            "_________________________________________________________________\n",
            "Layer (type)                 Output Shape              Param #   \n",
            "=================================================================\n",
            "embedding (Embedding)        (None, 70, 128)           1153280   \n",
            "_________________________________________________________________\n",
            "conv1d (Conv1D)              (None, 68, 128)           49280     \n",
            "_________________________________________________________________\n",
            "max_pooling1d (MaxPooling1D) (None, 13, 128)           0         \n",
            "_________________________________________________________________\n",
            "flatten (Flatten)            (None, 1664)              0         \n",
            "_________________________________________________________________\n",
            "dense (Dense)                (None, 256)               426240    \n",
            "_________________________________________________________________\n",
            "dense_1 (Dense)              (None, 2)                 514       \n",
            "=================================================================\n",
            "Total params: 1,629,314\n",
            "Trainable params: 1,629,314\n",
            "Non-trainable params: 0\n",
            "_________________________________________________________________\n"
          ],
          "name": "stdout"
        }
      ]
    },
    {
      "cell_type": "code",
      "metadata": {
        "colab": {
          "base_uri": "https://localhost:8080/"
        },
        "id": "TMMpYCfEgNWC",
        "outputId": "277e81fd-52f1-4715-9b88-7711c6128400"
      },
      "source": [
        "model.evaluate(X_test,Y_test) #loss, acc"
      ],
      "execution_count": null,
      "outputs": [
        {
          "output_type": "stream",
          "text": [
            "35/35 [==============================] - 1s 6ms/step - loss: 0.0522 - accuracy: 0.9892\n"
          ],
          "name": "stdout"
        },
        {
          "output_type": "execute_result",
          "data": {
            "text/plain": [
              "[0.05224214866757393, 0.9892376661300659]"
            ]
          },
          "metadata": {
            "tags": []
          },
          "execution_count": 40
        }
      ]
    },
    {
      "cell_type": "code",
      "metadata": {
        "colab": {
          "base_uri": "https://localhost:8080/"
        },
        "id": "QEwUc2_YhuxO",
        "outputId": "ca0d0cf1-0338-48df-a15e-38886575b39c"
      },
      "source": [
        "preds = model.predict(X_test)\n",
        "for i in range(len(preds)):\n",
        "    if (preds[i][0]>=preds[i][1]):\n",
        "        x = preds[i][0]\n",
        "    else:\n",
        "        x = preds[i][1]\n",
        "    if preds[i][0]==x:\n",
        "        preds[i][0]=1 #spam\n",
        "        preds[i][1]=0\n",
        "    elif preds[i][1]==x:\n",
        "        preds[i][0]=0\n",
        "        preds[i][1]=1 #spam\n",
        "\n",
        "Y_test_bin=np.argmax(Y_test, axis=1)\n",
        "pred_bin=np.argmax(preds, axis=1)\n",
        "pred_bin\n",
        "Y_test_bin"
      ],
      "execution_count": null,
      "outputs": [
        {
          "output_type": "execute_result",
          "data": {
            "text/plain": [
              "array([1, 0, 0, ..., 0, 0, 0])"
            ]
          },
          "metadata": {
            "tags": []
          },
          "execution_count": 41
        }
      ]
    },
    {
      "cell_type": "code",
      "metadata": {
        "colab": {
          "base_uri": "https://localhost:8080/"
        },
        "id": "O8ob9b1YWCnn",
        "outputId": "a2994d50-0381-48d7-8e24-d905c8d01086"
      },
      "source": [
        "preds = model.predict(X_test)\n",
        "preds"
      ],
      "execution_count": null,
      "outputs": [
        {
          "output_type": "execute_result",
          "data": {
            "text/plain": [
              "array([[7.4485938e-06, 9.9999261e-01],\n",
              "       [9.9999464e-01, 5.4001580e-06],\n",
              "       [9.9952722e-01, 4.7274714e-04],\n",
              "       ...,\n",
              "       [9.9999189e-01, 8.0760410e-06],\n",
              "       [1.0000000e+00, 4.3746478e-08],\n",
              "       [9.9994457e-01, 5.5399731e-05]], dtype=float32)"
            ]
          },
          "metadata": {
            "tags": []
          },
          "execution_count": 42
        }
      ]
    },
    {
      "cell_type": "code",
      "metadata": {
        "colab": {
          "base_uri": "https://localhost:8080/"
        },
        "id": "se9lSVdcjx4o",
        "outputId": "229cdf1b-e2ae-4f64-e1ae-3f796ab55788"
      },
      "source": [
        "from sklearn import metrics\n",
        "from sklearn.metrics import classification_report, confusion_matrix\n",
        "print('Confusion Matrix')\n",
        "conf = confusion_matrix(Y_test_bin, pred_bin)\n",
        "print(conf)\n",
        "print('----------------------------------------------------')\n",
        "print(classification_report(Y_test_bin, pred_bin))\n",
        "print('----------------------------------------------------')"
      ],
      "execution_count": null,
      "outputs": [
        {
          "output_type": "stream",
          "text": [
            "Confusion Matrix\n",
            "[[957   1]\n",
            " [ 11 146]]\n",
            "----------------------------------------------------\n",
            "              precision    recall  f1-score   support\n",
            "\n",
            "           0       0.99      1.00      0.99       958\n",
            "           1       0.99      0.93      0.96       157\n",
            "\n",
            "    accuracy                           0.99      1115\n",
            "   macro avg       0.99      0.96      0.98      1115\n",
            "weighted avg       0.99      0.99      0.99      1115\n",
            "\n",
            "----------------------------------------------------\n"
          ],
          "name": "stdout"
        }
      ]
    },
    {
      "cell_type": "markdown",
      "metadata": {
        "id": "O6gbPmU5oCKA"
      },
      "source": [
        "Glove\n"
      ]
    },
    {
      "cell_type": "code",
      "metadata": {
        "id": "nhvOIkkrlUzW"
      },
      "source": [
        "from keras.layers import Embedding\n",
        "import os\n",
        "EMBEDDING_DIM = 100\n",
        "# map word to embedding\n",
        "embeddings_index = {}\n",
        "for line in open(os.path.join('/content/drive/My Drive/dataset/glove.6B', 'glove.6B.100d.txt')):\n",
        "    values = line.split()\n",
        "    word = values[0]\n",
        "    embeddings_index[word] = np.asarray(values[1:], dtype='float32')"
      ],
      "execution_count": null,
      "outputs": []
    },
    {
      "cell_type": "code",
      "metadata": {
        "id": "hHR-Rc29nqir"
      },
      "source": [
        "tokenizer2 = Tokenizer(num_words=MAX_NUMBER_OF_WORDS)\n",
        "tokenizer2.fit_on_texts(X)\n",
        "sequences = tokenizer2.texts_to_sequences(X)\n",
        "vocabsize = len(tokenizer2.word_index) + 1\n",
        "matrix = np.zeros((vocabsize, EMBEDDING_DIM)) #vocabsizex100\n",
        "\n",
        "for word, i in tokenizer2.word_index.items():\n",
        "    embedding_vector = embeddings_index.get(word)\n",
        "    if embedding_vector is not None: \n",
        "      matrix[i] = embedding_vector"
      ],
      "execution_count": null,
      "outputs": []
    },
    {
      "cell_type": "code",
      "metadata": {
        "colab": {
          "base_uri": "https://localhost:8080/"
        },
        "id": "ebE0aqU2rGSX",
        "outputId": "5c99eb9c-c7af-4461-d19d-8c7bf2fd0987"
      },
      "source": [
        "embedding_layer = Embedding(vocabsize,\n",
        "                            EMBEDDING_DIM,\n",
        "                            weights=[matrix],\n",
        "                            input_length=MAX_SEQ_LEN,\n",
        "                            trainable=False)\n",
        "from keras.models import Sequential\n",
        "model = Sequential()\n",
        "model.add(embedding_layer) \n",
        "model.add(Conv1D(filters=128,\n",
        "                 kernel_size=3,\n",
        "                 padding='valid',\n",
        "                 activation='relu',\n",
        "                 strides=1))\n",
        "model.add(MaxPooling1D(5))\n",
        "model.add(Flatten())\n",
        "model.add(Dense(256,activation = 'relu'))\n",
        "model.add(Dense(2,activation = 'softmax'))\n",
        "#model.build(X_train.shape)\n",
        "model.compile(loss='categorical_crossentropy',optimizer='adam',metrics=['accuracy'])\n",
        "model.summary()"
      ],
      "execution_count": null,
      "outputs": [
        {
          "output_type": "stream",
          "text": [
            "Model: \"sequential_10\"\n",
            "_________________________________________________________________\n",
            "Layer (type)                 Output Shape              Param #   \n",
            "=================================================================\n",
            "embedding_17 (Embedding)     (None, 70, 100)           901000    \n",
            "_________________________________________________________________\n",
            "conv1d_23 (Conv1D)           (None, 68, 128)           38528     \n",
            "_________________________________________________________________\n",
            "max_pooling1d_23 (MaxPooling (None, 13, 128)           0         \n",
            "_________________________________________________________________\n",
            "flatten_23 (Flatten)         (None, 1664)              0         \n",
            "_________________________________________________________________\n",
            "dense_46 (Dense)             (None, 256)               426240    \n",
            "_________________________________________________________________\n",
            "dense_47 (Dense)             (None, 2)                 514       \n",
            "=================================================================\n",
            "Total params: 1,366,282\n",
            "Trainable params: 465,282\n",
            "Non-trainable params: 901,000\n",
            "_________________________________________________________________\n"
          ],
          "name": "stdout"
        }
      ]
    },
    {
      "cell_type": "code",
      "metadata": {
        "colab": {
          "base_uri": "https://localhost:8080/"
        },
        "id": "4_aTKLogrpAl",
        "outputId": "d7526acb-1122-4ff0-d83f-2fc1a769a807"
      },
      "source": [
        "model.fit(X_train,Y_train,batch_size=100,epochs=5, verbose=1)"
      ],
      "execution_count": null,
      "outputs": [
        {
          "output_type": "stream",
          "text": [
            "Epoch 1/5\n",
            "45/45 [==============================] - 1s 9ms/step - loss: 0.0294 - accuracy: 0.9904\n",
            "Epoch 2/5\n",
            "45/45 [==============================] - 0s 5ms/step - loss: 0.0247 - accuracy: 0.9930\n",
            "Epoch 3/5\n",
            "45/45 [==============================] - 0s 5ms/step - loss: 0.0177 - accuracy: 0.9951\n",
            "Epoch 4/5\n",
            "45/45 [==============================] - 0s 5ms/step - loss: 0.0264 - accuracy: 0.9906\n",
            "Epoch 5/5\n",
            "45/45 [==============================] - 0s 5ms/step - loss: 0.0110 - accuracy: 0.9980\n"
          ],
          "name": "stdout"
        },
        {
          "output_type": "execute_result",
          "data": {
            "text/plain": [
              "<tensorflow.python.keras.callbacks.History at 0x7f0a8497e190>"
            ]
          },
          "metadata": {
            "tags": []
          },
          "execution_count": 23
        }
      ]
    },
    {
      "cell_type": "code",
      "metadata": {
        "id": "R0fxqJJYrthP"
      },
      "source": [
        "preds = model.predict(X_test)\n",
        "for i in range(len(preds)):\n",
        "    if(preds[i][0]>=preds[i][1]):\n",
        "        x = preds[i][0]\n",
        "    else:\n",
        "        x = preds[i][1]\n",
        "    if preds[i][0]==x:\n",
        "        preds[i][0]=1\n",
        "        preds[i][1]=0\n",
        "    elif preds[i][1]==x:\n",
        "        preds[i][0]=0\n",
        "        preds[i][1]=1\n",
        "\n",
        "Y_test_bin=np.argmax(Y_test, axis=1)\n",
        "pred_bin=np.argmax(preds, axis=1)"
      ],
      "execution_count": null,
      "outputs": []
    },
    {
      "cell_type": "code",
      "metadata": {
        "colab": {
          "base_uri": "https://localhost:8080/"
        },
        "id": "rjW7DtIrsArc",
        "outputId": "a14a59b9-c353-4a40-e0c6-599c08390059"
      },
      "source": [
        "from sklearn import metrics\n",
        "from sklearn.metrics import classification_report, confusion_matrix\n",
        "print('Confusion Matrix')\n",
        "conf = confusion_matrix(Y_test_bin, pred_bin)\n",
        "print(conf)\n",
        "print('----------------------------------------------------')\n",
        "print(classification_report(Y_test_bin, pred_bin))\n",
        "print('----------------------------------------------------')"
      ],
      "execution_count": null,
      "outputs": [
        {
          "output_type": "stream",
          "text": [
            "Confusion Matrix\n",
            "[[957   1]\n",
            " [ 14 143]]\n",
            "----------------------------------------------------\n",
            "              precision    recall  f1-score   support\n",
            "\n",
            "           0       0.99      1.00      0.99       958\n",
            "           1       0.99      0.91      0.95       157\n",
            "\n",
            "    accuracy                           0.99      1115\n",
            "   macro avg       0.99      0.95      0.97      1115\n",
            "weighted avg       0.99      0.99      0.99      1115\n",
            "\n",
            "----------------------------------------------------\n"
          ],
          "name": "stdout"
        }
      ]
    },
    {
      "cell_type": "code",
      "metadata": {
        "id": "vH-FYy0Ix5ul"
      },
      "source": [
        ""
      ],
      "execution_count": null,
      "outputs": []
    }
  ]
}